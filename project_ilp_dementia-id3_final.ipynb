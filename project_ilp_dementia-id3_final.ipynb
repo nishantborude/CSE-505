{
 "cells": [
  {
   "cell_type": "markdown",
   "metadata": {},
   "source": [
    "### Import all libraries required"
   ]
  },
  {
   "cell_type": "code",
   "execution_count": 1,
   "metadata": {},
   "outputs": [],
   "source": [
    "import pandas as pd\n",
    "import numpy as np\n",
    "import matplotlib.pyplot as plt\n",
    "from sklearn.metrics import auc\n",
    "from sklearn.tree import DecisionTreeClassifier"
   ]
  },
  {
   "cell_type": "markdown",
   "metadata": {},
   "source": [
    "### Read data from the csv"
   ]
  },
  {
   "cell_type": "code",
   "execution_count": 2,
   "metadata": {},
   "outputs": [],
   "source": [
    "demen_data = pd.read_csv('final_oasis_dementia.csv')"
   ]
  },
  {
   "cell_type": "markdown",
   "metadata": {},
   "source": [
    "### Drop irrelevant columns such as Visit, which won't make any contribution for training the data"
   ]
  },
  {
   "cell_type": "code",
   "execution_count": 3,
   "metadata": {},
   "outputs": [],
   "source": [
    "demen_data = demen_data.drop(columns=['Visit'])"
   ]
  },
  {
   "cell_type": "code",
   "execution_count": 4,
   "metadata": {},
   "outputs": [
    {
     "name": "stdout",
     "output_type": "stream",
     "text": [
      "         Group  MR.Delay  Age  EDUC  SES  MMSE  CDR  eTIV   nWBV    ASF\n",
      "0  Nondemented         0   87    14    2    27  0.0  1987  0.696  0.883\n",
      "1  Nondemented       457   88    14    2    30  0.0  2004  0.681  0.876\n",
      "2     Demented         0   75    12    0    23  0.5  1678  0.736  1.046\n",
      "3     Demented       560   76    12    0    28  0.5  1738  0.713  1.010\n",
      "4     Demented      1895   80    12    0    22  0.5  1698  0.701  1.034\n",
      "2517\n"
     ]
    }
   ],
   "source": [
    "print(demen_data.head())\n",
    "print(demen_data.iloc[:,1].max())"
   ]
  },
  {
   "cell_type": "markdown",
   "metadata": {},
   "source": [
    "### Convert the string data classes to numeric 0 and 1"
   ]
  },
  {
   "cell_type": "code",
   "execution_count": 5,
   "metadata": {},
   "outputs": [],
   "source": [
    "demen_data.Group = demen_data.Group.replace('Nondemented', 0)\n",
    "demen_data.Group = demen_data.Group.replace('Demented',1)"
   ]
  },
  {
   "cell_type": "markdown",
   "metadata": {},
   "source": [
    "### Normalize the data for appropriate parameter tuning without any skewed entries"
   ]
  },
  {
   "cell_type": "code",
   "execution_count": 6,
   "metadata": {},
   "outputs": [],
   "source": [
    "def normalize_data(data):\n",
    "    tmp = pd.DataFrame()\n",
    "    for i in range(data.shape[1]):\n",
    "        max_val = data.iloc[:,i].max()\n",
    "        data.iloc[:,i] = data.iloc[:,i].divide(max_val).to_frame()\n",
    "    return data"
   ]
  },
  {
   "cell_type": "code",
   "execution_count": 7,
   "metadata": {},
   "outputs": [
    {
     "name": "stdout",
     "output_type": "stream",
     "text": [
      "   MR.Delay       Age      EDUC  SES      MMSE   CDR      eTIV      nWBV  \\\n",
      "0  0.000000  0.887755  0.608696  0.4  0.900000  0.00  0.991517  0.831541   \n",
      "1  0.181565  0.897959  0.608696  0.4  1.000000  0.00  1.000000  0.813620   \n",
      "2  0.000000  0.765306  0.521739  0.0  0.766667  0.25  0.837325  0.879331   \n",
      "3  0.222487  0.775510  0.521739  0.0  0.933333  0.25  0.867265  0.851852   \n",
      "4  0.752880  0.816327  0.521739  0.0  0.733333  0.25  0.847305  0.837515   \n",
      "\n",
      "        ASF  \n",
      "0  0.556396  \n",
      "1  0.551985  \n",
      "2  0.659105  \n",
      "3  0.636421  \n",
      "4  0.651544  \n"
     ]
    }
   ],
   "source": [
    "data = normalize_data(demen_data.iloc[:,1:10])\n",
    "print(data.head())"
   ]
  },
  {
   "cell_type": "markdown",
   "metadata": {},
   "source": [
    "### Randomly divide the dataset into partitions 80% train and 20% test, convert the output i.e. actual test values to a numpy array for iterations"
   ]
  },
  {
   "cell_type": "code",
   "execution_count": 8,
   "metadata": {},
   "outputs": [],
   "source": [
    "msk = np.random.rand(len(demen_data)) < 0.8\n",
    "train = data[msk]\n",
    "labels = demen_data.Group[msk]\n",
    "test = data[~msk]\n",
    "output = np.array(demen_data.Group[~msk])"
   ]
  },
  {
   "cell_type": "markdown",
   "metadata": {},
   "source": [
    "### Train the model using ID3 Decision Tree Algorithm"
   ]
  },
  {
   "cell_type": "code",
   "execution_count": 12,
   "metadata": {},
   "outputs": [
    {
     "data": {
      "text/plain": [
       "DecisionTreeClassifier(class_weight=None, criterion='gini', max_depth=None,\n",
       "            max_features=None, max_leaf_nodes=None,\n",
       "            min_impurity_decrease=0.0, min_impurity_split=None,\n",
       "            min_samples_leaf=1, min_samples_split=2,\n",
       "            min_weight_fraction_leaf=0.0, presort=False, random_state=None,\n",
       "            splitter='best')"
      ]
     },
     "execution_count": 12,
     "metadata": {},
     "output_type": "execute_result"
    }
   ],
   "source": [
    "model = DecisionTreeClassifier()\n",
    "model.fit(train, labels)"
   ]
  },
  {
   "cell_type": "markdown",
   "metadata": {},
   "source": [
    "### Make predictions on the test data"
   ]
  },
  {
   "cell_type": "code",
   "execution_count": 13,
   "metadata": {},
   "outputs": [],
   "source": [
    "pred = model.predict(test)"
   ]
  },
  {
   "cell_type": "markdown",
   "metadata": {},
   "source": [
    "### Count the number of correctly classified entries to get the accuracy of the model"
   ]
  },
  {
   "cell_type": "code",
   "execution_count": 16,
   "metadata": {},
   "outputs": [
    {
     "name": "stdout",
     "output_type": "stream",
     "text": [
      "68 69\n",
      "Accuracy : 0.9855072463768116\n"
     ]
    }
   ],
   "source": [
    "count = 0\n",
    "for i in range(len(pred)):\n",
    "    if pred[i] == output[i]:\n",
    "        count += 1\n",
    "print(count, len(pred))\n",
    "acc = float(count)/float(len(pred))\n",
    "print(\"Accuracy :\", acc)"
   ]
  },
  {
   "cell_type": "code",
   "execution_count": 17,
   "metadata": {},
   "outputs": [
    {
     "name": "stdout",
     "output_type": "stream",
     "text": [
      "[1 0 0 0 1 0 0 0 1 1 0 1 1 0 0 0 0 1 1 1 1 0 0 0 1 0 1 1 0 0 0 0 0 1 1 1 0\n",
      " 0 0 0 1 1 1 1 0 1 1 0 0 0 0 0 0 1 0 0 1 0 1 0 1 0 1 0 1 1 1 1 0]\n"
     ]
    }
   ],
   "source": [
    "print(pred)"
   ]
  },
  {
   "cell_type": "markdown",
   "metadata": {},
   "source": [
    "### To plot the ROC curve as in the paper, we calculate the true positives, true negatives, false positives and false negatives"
   ]
  },
  {
   "cell_type": "code",
   "execution_count": 18,
   "metadata": {},
   "outputs": [],
   "source": [
    "true_pos = 0\n",
    "true_neg = 0\n",
    "false_pos = 0\n",
    "false_neg = 0\n",
    "for i in range(len(pred)):\n",
    "    if pred[i] == 1 and output[i] == 1:\n",
    "        true_pos += 1\n",
    "    elif pred[i] == 1 and output[i] == 0:\n",
    "        false_pos += 1\n",
    "    elif pred[i] == 0 and output[i] == 1:\n",
    "        false_neg += 1\n",
    "    elif pred[i] == 0 and output[i] == 0:\n",
    "        true_neg += 1"
   ]
  },
  {
   "cell_type": "code",
   "execution_count": 19,
   "metadata": {},
   "outputs": [
    {
     "name": "stdout",
     "output_type": "stream",
     "text": [
      "38 30 0 1 69 69\n"
     ]
    }
   ],
   "source": [
    "print(true_neg,true_pos,false_neg,false_pos, true_neg+true_pos+false_neg+false_pos, len(pred) )"
   ]
  },
  {
   "cell_type": "markdown",
   "metadata": {},
   "source": [
    "### True Positive Rate is calculated as TPR = TP/ (TP + FN) and False Positive Rate as FPR = FP/(FP + TN)"
   ]
  },
  {
   "cell_type": "code",
   "execution_count": 20,
   "metadata": {},
   "outputs": [
    {
     "name": "stdout",
     "output_type": "stream",
     "text": [
      "1.0 0.02564102564102564\n"
     ]
    }
   ],
   "source": [
    "tpr = float(true_pos)/(float(true_pos) + float(false_neg))\n",
    "fpr = float(false_pos)/(float(false_pos) + float(true_neg))\n",
    "print(tpr,fpr)"
   ]
  },
  {
   "cell_type": "markdown",
   "metadata": {},
   "source": [
    "### Making the plot consistent, we convert the TPR and FPR in the proper format and draw the plot as shown below with the AUC accuracy calculated from the TPR and FPR"
   ]
  },
  {
   "cell_type": "code",
   "execution_count": 21,
   "metadata": {},
   "outputs": [
    {
     "data": {
      "image/png": "[encoded data removed]",
      "text/plain": [
       "<matplotlib.figure.Figure at 0x23464b532e8>"
      ]
     },
     "metadata": {},
     "output_type": "display_data"
    }
   ],
   "source": [
    "tpr_arr = [0.0, tpr, 1.0]\n",
    "fpr_arr = [0.0, fpr, 1.0]\n",
    "plt.title('ROC Curve')\n",
    "plt.plot(fpr_arr, tpr_arr, label = 'AUC = %0.3f' % auc(fpr_arr, tpr_arr))\n",
    "plt.legend(loc='lower right')\n",
    "plt.xlim([0,1])\n",
    "plt.ylim([0,1])\n",
    "plt.ylabel('True Positive Rate')\n",
    "plt.xlabel('False Positive Rate')\n",
    "plt.show()"
   ]
  }
 ],
 "metadata": {
  "kernelspec": {
   "display_name": "Python 3",
   "language": "python",
   "name": "python3"
  },
  "language_info": {
   "codemirror_mode": {
    "name": "ipython",
    "version": 3
   },
   "file_extension": ".py",
   "mimetype": "text/x-python",
   "name": "python",
   "nbconvert_exporter": "python",
   "pygments_lexer": "ipython3",
   "version": "3.6.3"
  }
 },
 "nbformat": 4,
 "nbformat_minor": 2
}
