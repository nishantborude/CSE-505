{
 "cells": [
  {
   "cell_type": "markdown",
   "metadata": {},
   "source": [
    "### Import libraries"
   ]
  },
  {
   "cell_type": "code",
   "execution_count": 1,
   "metadata": {},
   "outputs": [],
   "source": [
    "import pandas as pd\n",
    "import numpy as np\n",
    "from sklearn.tree import DecisionTreeClassifier\n",
    "import matplotlib.pyplot as plt\n",
    "from sklearn.feature_selection import VarianceThreshold\n",
    "from sklearn.metrics import auc\n",
    "from sklearn import svm"
   ]
  },
  {
   "cell_type": "markdown",
   "metadata": {},
   "source": [
    "### Read labels"
   ]
  },
  {
   "cell_type": "code",
   "execution_count": 3,
   "metadata": {},
   "outputs": [],
   "source": [
    "labels = pd.read_csv('train_labels.csv') "
   ]
  },
  {
   "cell_type": "markdown",
   "metadata": {},
   "source": [
    "### Read train data from the two files and merge them in a single dataframe and drop the Id column"
   ]
  },
  {
   "cell_type": "code",
   "execution_count": 6,
   "metadata": {},
   "outputs": [
    {
     "name": "stdout",
     "output_type": "stream",
     "text": [
      "   SBM_map1  SBM_map2  SBM_map3  SBM_map4  SBM_map5  SBM_map6  SBM_map7  \\\n",
      "0  0.725065 -0.639254  0.353069 -0.981707 -1.419971 -0.441321 -0.264192   \n",
      "1 -1.328855  0.502970  0.013232  1.128496 -0.070738  0.398476 -0.466051   \n",
      "2  0.732268 -1.241554  0.654942 -0.289216  0.158316  0.029165  1.439242   \n",
      "3 -0.343917 -1.052519 -1.150521  0.765989  0.923129  0.674052 -0.492673   \n",
      "4 -0.208685 -0.562697 -0.362164  1.025571  0.151690 -0.130410 -1.105922   \n",
      "\n",
      "   SBM_map8  SBM_map10  SBM_map13   ...      FNC369    FNC370   FNC371  \\\n",
      "0  0.711579   0.641798   0.339658   ...     0.18743  0.163770  0.17686   \n",
      "1 -0.435455   0.342847  -0.672254   ...     0.59834 -0.477880  0.26634   \n",
      "2 -0.832816   1.285468  -2.132901   ...     0.22866 -0.000816  0.25860   \n",
      "3  1.282388  -1.914583  -1.269851   ...     0.42881  0.711570  0.56593   \n",
      "4  0.502029  -0.097735   1.561833   ...     0.41688 -0.435600  0.32104   \n",
      "\n",
      "     FNC372    FNC373    FNC374   FNC375   FNC376    FNC377   FNC378  \n",
      "0  0.074728  0.148600  0.343230  0.17565  0.52035  0.030613  0.30774  \n",
      "1  0.582940 -0.041272  0.630050  0.70314  0.36383 -0.207880  0.64138  \n",
      "2  0.280450 -0.644640  0.332440  0.87074 -0.10973 -0.679160  0.32316  \n",
      "3  0.248560  0.153860  0.093171  0.62556  0.60391 -0.058301  0.10779  \n",
      "4  0.392960 -0.842430  0.425080  0.86509 -0.31281 -0.829640  0.24307  \n",
      "\n",
      "[5 rows x 410 columns]\n"
     ]
    }
   ],
   "source": [
    "train_feat1 = pd.read_csv('train_SBM.csv')\n",
    "train_feat2 = pd.read_csv('train_FNC.csv')\n",
    "both_train = pd.merge(train_feat1, train_feat2)\n",
    "both_train = both_train.drop(columns= ['Id'])\n",
    "print(both_train.head())"
   ]
  },
  {
   "cell_type": "markdown",
   "metadata": {},
   "source": [
    "### Select most important features from the 410 features based on Variance Threshold"
   ]
  },
  {
   "cell_type": "code",
   "execution_count": 7,
   "metadata": {},
   "outputs": [
    {
     "name": "stdout",
     "output_type": "stream",
     "text": [
      "(86, 410)\n"
     ]
    }
   ],
   "source": [
    "print(both_train.shape)"
   ]
  },
  {
   "cell_type": "code",
   "execution_count": 8,
   "metadata": {},
   "outputs": [],
   "source": [
    "sel = VarianceThreshold(threshold=(.3 * (1 - .3)))\n",
    "both_train = pd.DataFrame(sel.fit_transform(both_train))"
   ]
  },
  {
   "cell_type": "code",
   "execution_count": 9,
   "metadata": {},
   "outputs": [
    {
     "name": "stdout",
     "output_type": "stream",
     "text": [
      "(86, 33)\n"
     ]
    }
   ],
   "source": [
    "print(both_train.shape)"
   ]
  },
  {
   "cell_type": "markdown",
   "metadata": {},
   "source": [
    "### Divide the data into random 70% train and 30% test data"
   ]
  },
  {
   "cell_type": "code",
   "execution_count": 10,
   "metadata": {},
   "outputs": [],
   "source": [
    "msk = np.random.rand(len(both_train)) < 0.7"
   ]
  },
  {
   "cell_type": "code",
   "execution_count": 11,
   "metadata": {},
   "outputs": [],
   "source": [
    "test_data = both_train[~msk]\n",
    "train_data = both_train[msk]\n",
    "labels_train = labels[msk]\n",
    "labels_test = labels[~msk]"
   ]
  },
  {
   "cell_type": "markdown",
   "metadata": {},
   "source": [
    "### Train model using ID3 decision tree classifie: default parameters"
   ]
  },
  {
   "cell_type": "code",
   "execution_count": 12,
   "metadata": {},
   "outputs": [
    {
     "data": {
      "text/plain": [
       "DecisionTreeClassifier(class_weight=None, criterion='gini', max_depth=None,\n",
       "            max_features=None, max_leaf_nodes=None,\n",
       "            min_impurity_decrease=0.0, min_impurity_split=None,\n",
       "            min_samples_leaf=1, min_samples_split=2,\n",
       "            min_weight_fraction_leaf=0.0, presort=False, random_state=None,\n",
       "            splitter='best')"
      ]
     },
     "execution_count": 12,
     "metadata": {},
     "output_type": "execute_result"
    }
   ],
   "source": [
    "model = DecisionTreeClassifier()\n",
    "model.fit(train_data, labels_train.Class)"
   ]
  },
  {
   "cell_type": "markdown",
   "metadata": {},
   "source": [
    "### Make predictions on the test data"
   ]
  },
  {
   "cell_type": "code",
   "execution_count": 14,
   "metadata": {},
   "outputs": [
    {
     "name": "stdout",
     "output_type": "stream",
     "text": [
      "[0 1 0 0 0 0 0 0 0 1 0 0 1 1 0 0 1 0 0 0 1 1 1 0 0 1]\n"
     ]
    }
   ],
   "source": [
    "predictions = model.predict(test_data)\n",
    "print(predictions)"
   ]
  },
  {
   "cell_type": "markdown",
   "metadata": {},
   "source": [
    "### Convert labels into numpy array for iterations"
   ]
  },
  {
   "cell_type": "code",
   "execution_count": 15,
   "metadata": {},
   "outputs": [],
   "source": [
    "labels_test = labels[~msk]\n",
    "labels_test = np.array(labels_test.Class)"
   ]
  },
  {
   "cell_type": "markdown",
   "metadata": {},
   "source": [
    "### Calculate the correctly classified data for accuracy"
   ]
  },
  {
   "cell_type": "code",
   "execution_count": 16,
   "metadata": {},
   "outputs": [
    {
     "name": "stdout",
     "output_type": "stream",
     "text": [
      "15 26\n",
      "Accuracy : 0.5769230769230769\n"
     ]
    }
   ],
   "source": [
    "count = 0\n",
    "for i in range(len(predictions)):\n",
    "    if predictions[i] == labels_test[i]:\n",
    "        count += 1\n",
    "print(count, len(predictions))\n",
    "acc = float(count)/float(len(predictions))\n",
    "print(\"Accuracy :\", acc)"
   ]
  },
  {
   "cell_type": "markdown",
   "metadata": {},
   "source": [
    "### To plot the ROC curve as in the paper, we calculate the true positives, true negatives, false positives and false negatives"
   ]
  },
  {
   "cell_type": "code",
   "execution_count": 17,
   "metadata": {},
   "outputs": [],
   "source": [
    "true_pos = 0\n",
    "true_neg = 0\n",
    "false_pos = 0\n",
    "false_neg = 0\n",
    "for i in range(len(predictions)):\n",
    "    if predictions[i] == 1 and labels_test[i] == 1:\n",
    "        true_pos += 1\n",
    "    elif predictions[i] == 1 and labels_test[i] == 0:\n",
    "        false_pos += 1\n",
    "    elif predictions[i] == 0 and labels_test[i] == 1:\n",
    "        false_neg += 1\n",
    "    elif predictions[i] == 0 and labels_test[i] == 0:\n",
    "        true_neg += 1"
   ]
  },
  {
   "cell_type": "code",
   "execution_count": 18,
   "metadata": {},
   "outputs": [
    {
     "name": "stdout",
     "output_type": "stream",
     "text": [
      "9 6 8 3 26 26\n"
     ]
    }
   ],
   "source": [
    "print(true_neg,true_pos,false_neg,false_pos, true_neg+true_pos+false_neg+false_pos, len(predictions) )"
   ]
  },
  {
   "cell_type": "markdown",
   "metadata": {},
   "source": [
    "### True Positive Rate is calculated as TPR = TP/ (TP + FN) and False Positive Rate as FPR = FP/(FP + TN)"
   ]
  },
  {
   "cell_type": "code",
   "execution_count": 19,
   "metadata": {},
   "outputs": [
    {
     "name": "stdout",
     "output_type": "stream",
     "text": [
      "0.42857142857142855 0.25\n"
     ]
    }
   ],
   "source": [
    "tpr = float(true_pos)/(float(true_pos) + float(false_neg))\n",
    "fpr = float(false_pos)/(float(false_pos) + float(true_neg))\n",
    "print(tpr,fpr)"
   ]
  },
  {
   "cell_type": "markdown",
   "metadata": {},
   "source": [
    "### Making the plot consistent, we convert the TPR and FPR in the proper format and draw the plot as shown below with the AUC accuracy calculated from the TPR and FPR"
   ]
  },
  {
   "cell_type": "code",
   "execution_count": 20,
   "metadata": {},
   "outputs": [
    {
     "data": {
      "image/png": "[encoded data removed]",
      "text/plain": [
       "<matplotlib.figure.Figure at 0x14e6d4af710>"
      ]
     },
     "metadata": {},
     "output_type": "display_data"
    }
   ],
   "source": [
    "tpr_arr = [0.0, tpr, 1.0]\n",
    "fpr_arr = [0.0, fpr, 1.0]\n",
    "plt.title('ROC Curve')\n",
    "plt.plot(fpr_arr, tpr_arr, label = 'AUC = %0.3f' % auc(fpr_arr, tpr_arr))\n",
    "plt.legend(loc='lower right')\n",
    "plt.xlim([0,1])\n",
    "plt.ylim([0,1])\n",
    "plt.ylabel('True Positive Rate')\n",
    "plt.xlabel('False Positive Rate')\n",
    "plt.show()"
   ]
  }
 ],
 "metadata": {
  "kernelspec": {
   "display_name": "Python 3",
   "language": "python",
   "name": "python3"
  },
  "language_info": {
   "codemirror_mode": {
    "name": "ipython",
    "version": 3
   },
   "file_extension": ".py",
   "mimetype": "text/x-python",
   "name": "python",
   "nbconvert_exporter": "python",
   "pygments_lexer": "ipython3",
   "version": "3.6.3"
  }
 },
 "nbformat": 4,
 "nbformat_minor": 2
}
